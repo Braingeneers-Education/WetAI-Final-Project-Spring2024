{
 "cells": [
  {
   "cell_type": "markdown",
   "metadata": {},
   "source": [
    "<font size=7 face=\"courier\">Final Analysis Source Code"
   ]
  },
  {
   "cell_type": "markdown",
   "metadata": {},
   "source": [
    "This is the code used to create the diagrams in the notebook, `final_analysis.ipynb`. I recommend you at least go through some of these functions to understand how to implement your own analysis functions. Also it is worth looking at the bonus section as it has code for eigendecomposition, which could be a useful lens of analysis if you wanted to use it."
   ]
  },
  {
   "cell_type": "code",
   "execution_count": null,
   "metadata": {},
   "outputs": [],
   "source": [
    "print(\"Loading: final_analysis_source_code.ipynb...\")"
   ]
  },
  {
   "cell_type": "markdown",
   "metadata": {},
   "source": [
    "Import packages"
   ]
  },
  {
   "cell_type": "code",
   "execution_count": null,
   "metadata": {},
   "outputs": [],
   "source": [
    "import numpy as np                                                    # Packages for data analysis\n",
    "import pandas as pd\n",
    "import pytz\n",
    "import sys\n",
    "import zipfile\n",
    "from datetime import datetime\n",
    "import matplotlib.pyplot as plt\n",
    "import matplotlib.cm as cm\n",
    "from matplotlib.patches import Patch, Circle\n",
    "from scipy.ndimage import gaussian_filter1d\n",
    "import braingeneers                                                   # Braingeneers code\n",
    "from braingeneers.analysis.analysis import SpikeData\n",
    "import braingeneers.data.datasets_electrophysiology as ephys\n",
    "from scipy.ndimage import gaussian_filter1d\n",
    "from ipywidgets import interact, interactive, fixed, interact_manual  # package for interactive widgets \n",
    "#from food_land import FoodLandEnv\n",
    "#import gymnasium as gym\n",
    "#import pygame"
   ]
  },
  {
   "cell_type": "markdown",
   "metadata": {},
   "source": [
    "Here is some minor stuff to help set up the notebook :"
   ]
  },
  {
   "cell_type": "code",
   "execution_count": null,
   "metadata": {},
   "outputs": [],
   "source": [
    "Timezone = pytz.timezone(\"America/Los_Angeles\")"
   ]
  },
  {
   "cell_type": "code",
   "execution_count": null,
   "metadata": {},
   "outputs": [],
   "source": [
    "groups = [\"Group 1\", \"Group 2\", \"Group 3\", \"Group 4\", \"Group 5\"]\n",
    "groupID = {\"Group 1\":22097, \"Group 2\":21985, \"Group 3\":22194, \"Group 4\":20264, \"Group 5\":22717,}"
   ]
  },
  {
   "cell_type": "markdown",
   "metadata": {},
   "source": [
    "# <font color=\"blue\"> Loading Data"
   ]
  },
  {
   "cell_type": "markdown",
   "metadata": {},
   "source": [
    "Here are the functions used to load the data, it's pretty messy and lazy so don't use this as an example of \"good\" coding, hopefully you never find yourself in a situation where you _need_ to declare this many globals, but sometimes complete code is better than neat code :)"
   ]
  },
  {
   "cell_type": "code",
   "execution_count": null,
   "metadata": {},
   "outputs": [],
   "source": [
    "def load_curation(qm_path):\n",
    "    with zipfile.ZipFile(qm_path, 'r') as f_zip:\n",
    "        qm = f_zip.open(\"qm.npz\")\n",
    "        data = np.load(qm, allow_pickle=True)\n",
    "        spike_times = data[\"train\"].item()\n",
    "        fs = data[\"fs\"]\n",
    "        train = [times / fs for _, times in spike_times.items()]\n",
    "        if \"config\" in data:\n",
    "            config = data[\"config\"].item()\n",
    "        else:\n",
    "            config = None\n",
    "        neuron_data = data[\"neuron_data\"].item()\n",
    "    return train, neuron_data, config, fs\n",
    "\n",
    "def Load_Data(ChipID): \n",
    "    path = \"Data/{}/\".format(ChipID)\n",
    "    global game_log, train_log, generic_log, sd_pre, sd_post, spikes_pre, spikes_post, info, mapping, before_first, before_multi, after_first, after_multi; # never do this kids :)\n",
    "\n",
    "    game_log = pd.read_csv(path +\"exp1_food_land_game_log.csv\")\n",
    "    train_log = pd.read_csv(path +\"exp1_food_land_train_log.csv\")\n",
    "    generic_log = pd.read_csv(path +\"exp1_food_land_log.csv\")\n",
    "\n",
    "    train_pre, neuron_data_pre, _, fs_pre = load_curation(\"Data/recordings/\"+str(ChipID)+\"_exp1_acqm.zip\")\n",
    "    train_post, neuron_data_post, _, fs_post = load_curation(\"Data/recordings/\"+str(ChipID)+\"_exp1_1_acqm.zip\")\n",
    "\n",
    "    sd_pre = SpikeData(train_pre, neuron_data={0: neuron_data_pre})\n",
    "    sd_post = SpikeData(train_post, neuron_data={0: neuron_data_post})\n",
    "\n",
    "    spikes_pre = np.load(path + 'before/spikes.npy',allow_pickle=True)\n",
    "    spikes_post = np.load(path + 'after/spikes.npy',allow_pickle=True)\n",
    "    info = np.load(path + 'before/info.npy',allow_pickle=True).item()\n",
    "    mapping = pd.read_csv(path + 'exp1_mapping.csv')\n",
    "\n",
    "    before_first = np.load(path + 'before/first_order_connectivity.npy',allow_pickle=True)\n",
    "    before_multi = np.load(path + 'before/multi_order_connectivity.npy',allow_pickle=True)\n",
    "    after_first = np.load(path + 'after/first_order_connectivity.npy',allow_pickle=True)\n",
    "    after_multi = np.load(path + 'after/multi_order_connectivity.npy',allow_pickle=True)\n",
    "\n",
    "\n",
    "#Load_Data(20264)\n",
    "\n",
    "def Select_Group(group):\n",
    "    global group_selected;\n",
    "    group_selected = group\n",
    "    ChipID = groupID[group]\n",
    "    print(f\"{group} chip ID : {ChipID}\\nLoading Data...\")\n",
    "    Load_Data(ChipID)\n",
    "    print(\"Data Loaded!\")\n",
    "\n",
    "#interact_manual( Select_Group, group=groups)\n"
   ]
  },
  {
   "cell_type": "markdown",
   "metadata": {},
   "source": [
    "# <font color=\"Green\">Analysis Plots"
   ]
  },
  {
   "cell_type": "markdown",
   "metadata": {},
   "source": [
    "Here is the source code for all the figures used in the main notebook. Feel free to use these as reference/inspiration when working on your own analysis methods!"
   ]
  },
  {
   "cell_type": "markdown",
   "metadata": {},
   "source": [
    "## <font color=\"green\"> Game Log Vis"
   ]
  },
  {
   "cell_type": "code",
   "execution_count": 2,
   "metadata": {},
   "outputs": [],
   "source": [
    "def game_plots(glog):\n",
    "    # Plot the agent pos, a different color for each episode\n",
    "    fig, ax = plt.subplots(2, 1, figsize=(10,9))\n",
    "    for episode in glog['episode'].unique():\n",
    "        ep_log = glog[glog['episode'] == episode]\n",
    "        ax[0].plot(ep_log['agent_pos_x'], ep_log['agent_pos_y'], label=f'Episode {episode}')\n",
    "    ax[0].set_xlabel('x')\n",
    "    ax[0].set_ylabel('y')\n",
    "    ax[0].set_title('Agent Position')\n",
    "    ax[0].legend()\n",
    "\n",
    "    # Plot the reward per episode\n",
    "\n",
    "    reward_for_plots = np.array(glog['reward'], dtype=object)\n",
    "    #ax[1].plot(game_log['reward'])\n",
    "    ax[1].plot(reward_for_plots)\n",
    "    ax[1].set_xlabel('Episode')\n",
    "    ax[1].set_ylabel('Reward')\n",
    "    ax[1].set_title('Reward per Episode')\n",
    "\n",
    "    plt.show()\n",
    "\n",
    "def speed_plots(glog):\n",
    "    # Plot turning and forward speed\n",
    "    fig, ax = plt.subplots(2, 1, figsize=(10,9))\n",
    "\n",
    "    turning_speed_for_plots = np.array(glog['turning_speed'], dtype=object)\n",
    "    moving_speed_for_plots = np.array(glog['moving_speed'], dtype=object)\n",
    "\n",
    "    #ax[0].plot(game_log['turning_speed'], label='Turn Speed')\n",
    "    ax[0].plot(turning_speed_for_plots, label='Turn Speed')\n",
    "    ax[0].set_xlabel('Step')\n",
    "    ax[0].set_ylabel('Turn Speed')\n",
    "    ax[0].set_title('Turn Speed')\n",
    "    ax[0].legend()\n",
    "\n",
    "    #ax[1].plot(game_log['moving_speed'], label='Forward Speed')\n",
    "    ax[1].plot(moving_speed_for_plots, label='Forward Speed')\n",
    "    ax[1].set_xlabel('Step')\n",
    "    ax[1].set_ylabel('Forward Speed')\n",
    "    ax[1].set_title('Forward Speed')\n",
    "    ax[1].legend()\n",
    "\n",
    "    plt.show()\n",
    "\n",
    "#game_plots(game_log)\n",
    "#speed_plots(game_log)"
   ]
  },
  {
   "cell_type": "markdown",
   "metadata": {},
   "source": [
    "## <font color=\"Green\"> Graph Raster Plots"
   ]
  },
  {
   "cell_type": "code",
   "execution_count": null,
   "metadata": {},
   "outputs": [],
   "source": [
    "def plotRaster( sd, title, ax):\n",
    "    idces, times = sd.idces_times()\n",
    "    ax.scatter(times,idces,marker='|',s=1)   # Creates spike raster\n",
    "    ax.set_title( title )\n",
    "    ax.set_xlabel(\"Time(s)\")\n",
    "    ax.set_ylabel('Unit #')\n",
    "    \n",
    "def Plot_Rasters():\n",
    "    print(f\"Displaying Spike Rasters for Group {group_selected}\")\n",
    "    fig, axs = plt.subplots( nrows=2, figsize=(30, 15) )\n",
    "    plotRaster(sd_pre, \"Before Stimulation\", axs[0] )\n",
    "    plotRaster(sd_post, \"After Stimulation\", axs[1] )\n",
    "    plt.show()\n",
    "\n",
    "#Plot_Rasters()"
   ]
  },
  {
   "cell_type": "markdown",
   "metadata": {},
   "source": [
    "## <font color=\"green\">Causal Connectivity Plots"
   ]
  },
  {
   "cell_type": "code",
   "execution_count": null,
   "metadata": {},
   "outputs": [],
   "source": [
    "def Plot_Causal(): #plot 4 subplots instead\n",
    "    cc_bef_first = before_first\n",
    "    cc_bef_multi = before_multi\n",
    "    cc_aft_first = after_first\n",
    "    cc_aft_multi = after_multi\n",
    "    figlayout = \"\"\"\n",
    "                AB\n",
    "                CD\n",
    "                \"\"\"\n",
    "    \n",
    "    fig, plot = plt.subplot_mosaic(figlayout, figsize=(12,10)) \n",
    "    fig.suptitle(\"Causal Connectivity Matrices\")\n",
    "\n",
    "    #plot before first order\n",
    "    pltA = plot[\"A\"].imshow(cc_bef_first, cmap='Greens') # plot before CC\n",
    "    plot[\"A\"].set_title(\"Before\\nFirst Order (10-15ms)\")\n",
    "    plot[\"A\"].set_xlabel(\"Reactivity Index\")\n",
    "    plot[\"A\"].set_ylabel(\"Stimulus Index\" )\n",
    "    fig.colorbar(pltA, ax=plot[\"A\"], shrink=0.7)\n",
    "\n",
    "    # Plot after first order\n",
    "    pltB = plot[\"B\"].imshow(cc_aft_first, cmap='Greens') # plot after cc\n",
    "    plot[\"B\"].set_title(\"After\\nFirst Order (10-15ms)\")\n",
    "    plot[\"B\"].set_xlabel(\"Reactivity Index\")\n",
    "    plot[\"B\"].set_ylabel(\"Stimulus Index\" )\n",
    "    fig.colorbar(pltB, ax=plot[\"B\"], shrink=0.7)\n",
    "\n",
    "    # Plot after first order\n",
    "    pltB = plot[\"C\"].imshow(cc_bef_multi, cmap='Greens') # plot after cc\n",
    "    plot[\"C\"].set_title(\"Nth Order (200ms)\")\n",
    "    plot[\"C\"].set_xlabel(\"Reactivity Index\")\n",
    "    plot[\"C\"].set_ylabel(\"Stimulus Index\" )\n",
    "    fig.colorbar(pltB, ax=plot[\"C\"], shrink=0.7)\n",
    "\n",
    "    # Plot after first order\n",
    "    pltB = plot[\"D\"].imshow(cc_aft_multi, cmap='Greens') # plot after cc\n",
    "    plot[\"D\"].set_title(\"Nth Order (200ms)\")\n",
    "    plot[\"D\"].set_xlabel(\"Reactivity Index\")\n",
    "    plot[\"D\"].set_ylabel(\"Stimulus Index\" )\n",
    "    fig.colorbar(pltB, ax=plot[\"D\"], shrink=0.7)\n",
    "\n",
    "#Plot_Causal()"
   ]
  },
  {
   "cell_type": "markdown",
   "metadata": {},
   "source": [
    "## <font color=\"green\">MEA Layout"
   ]
  },
  {
   "cell_type": "code",
   "execution_count": null,
   "metadata": {},
   "outputs": [],
   "source": [
    "def Get_Mapping():\n",
    "    fig, ax = plt.subplots(figsize=(10,8))\n",
    "    ax.set_title(\"Organoid Mapping\")\n",
    "\n",
    "    neurons = pd.DataFrame(columns=mapping.columns)\n",
    "    for i in range(len(info[\"stim_patterns\"])):\n",
    "        item = mapping.loc[mapping[\"electrode\"] == info[\"stim_patterns\"][i][0]]\n",
    "        neurons = pd.concat([neurons, item], ignore_index=True)\n",
    "\n",
    "    ax.scatter(mapping['x'], mapping['y'], s=2) #plot electrodes, then a subset of 20 of them will be the neuronsin the expr\n",
    "    ax.scatter(neurons['x'], neurons['y'], s=30, c='r') #plot neurons\n",
    "\n",
    "    ax.set_xlabel('um')\n",
    "    ax.set_ylabel('um')\n",
    "    ax.legend([\"Electrodes\", \"Neurons\"])\n",
    "    # get causal info for stim pattern electrons, those tuples there are the electrodes that are stimulated\n",
    "    # print(mapping)\n",
    "\n",
    "#Get_Mapping()"
   ]
  },
  {
   "cell_type": "markdown",
   "metadata": {},
   "source": [
    "## <font color=\"green\">Spikes Per Rep"
   ]
  },
  {
   "cell_type": "code",
   "execution_count": null,
   "metadata": {},
   "outputs": [],
   "source": [
    "def Inter_Reactions(set):\n",
    "    global spikes;\n",
    "    if set == \"before\":\n",
    "        spikes = spikes_pre\n",
    "    else:\n",
    "        spikes = spikes_post\n",
    "    interact_manual(Plot_Spikes, Count_1=(1, spikes.shape[1]), Count_2=(1, spikes.shape[2]))  \n",
    "\n",
    "def Plot_Spikes(Count_1, Count_2):\n",
    "    colors = cm.rainbow(np.linspace(0, 1, spikes.shape[1]))\n",
    "\n",
    "\n",
    "    for st_i in range(Count_1):\n",
    "        for r_i in range(Count_2):    \n",
    "            fig, ax = plt.subplots(1, 1, figsize=(10, 4))    \n",
    "            for rep in range(spikes.shape[0]):\n",
    "                x_bias = 0#r_i * 210\n",
    "                y_bias = 0#st_i * 55\n",
    "\n",
    "                rep_i = np.ones_like(spikes[rep,st_i,r_i])*rep\n",
    "                ax.scatter(x_bias + spikes[rep,st_i,r_i]/20, y_bias + rep_i, color=colors[r_i],s=1)#, marker='x')\n",
    "            ax.set_xlabel('Time (ms)')\n",
    "            ax.set_ylabel('Stim Rep')\n",
    "            plt.show()"
   ]
  },
  {
   "cell_type": "markdown",
   "metadata": {},
   "source": [
    "# Bonus Content!!! :)"
   ]
  },
  {
   "cell_type": "markdown",
   "metadata": {},
   "source": [
    "Some functions that we do not use in the notebook but might be helpful as a boost when working on your own data analysis. Hope you make the best of them! "
   ]
  },
  {
   "cell_type": "code",
   "execution_count": null,
   "metadata": {},
   "outputs": [],
   "source": [
    "def Pretty_Plot_Raster(sd, title=\"Spike Raster\", l1=-10, l2=False, xsize=10, ysize=6, analize=False):\n",
    "    \"\"\"\n",
    "    Plots a configuable raster plot of the spike data.\n",
    "        sd : spike data object from braingeneers\n",
    "        title : Title of the plot\n",
    "        l1 : start time in seconds\n",
    "        l2 : end time in seconds\n",
    "        xsize : width of the plot\n",
    "        ysize : height of the plot\n",
    "        analize : If True, will plot the population rate as well\n",
    "    \"\"\"\n",
    "\n",
    "    if l2==False:\n",
    "        l2 = sd.length / 1000 + 10\n",
    "    \n",
    "    idces, times = sd.idces_times()\n",
    "    \n",
    "    if analize == True:\n",
    "        # Get population rate for everything\n",
    "        pop_rate = sd.binned(bin_size=1)  # in ms\n",
    "        # Lets smooth this to make it neater\n",
    "        sigma = 5\n",
    "        pop_rate_smooth = gaussian_filter1d(pop_rate.astype(float), sigma=sigma)\n",
    "        t = np.linspace(0, sd.length, pop_rate.shape[0]) / 1000\n",
    "\n",
    "        # Determine the stop_time if it's not provided\n",
    "        if l2 is None:\n",
    "            l2 = t[-1]\n",
    "\n",
    "        # Filter times and idces within the specified start and stop times\n",
    "        mask = (times >= l1 * 1000) & (times <= l2 * 1000)\n",
    "        times = times[mask]\n",
    "        idces = idces[mask]\n",
    "\n",
    "    fig, ax = plt.subplots(figsize=(xsize, ysize))\n",
    "    fig.suptitle(title)\n",
    "    ax.scatter(times/1000,idces,marker='|',s=1)\n",
    "    \n",
    "    if analize == True:\n",
    "        ax2 = ax.twinx()\n",
    "        ax2.plot(t, pop_rate_smooth, c='r')\n",
    "        ax2.set_ylabel('Firing Rate')\n",
    "        \n",
    "    ax.set_xlabel(\"Time(s)\")\n",
    "    ax.set_ylabel('Unit #')\n",
    "    plt.xlim(l1, l2)\n",
    "    plt.show()"
   ]
  },
  {
   "cell_type": "markdown",
   "metadata": {},
   "source": [
    "Matrix functions"
   ]
  },
  {
   "cell_type": "code",
   "execution_count": null,
   "metadata": {},
   "outputs": [],
   "source": [
    "def correlation(sd):\n",
    "    \"\"\"\n",
    "    Returns the correlation matrix of a spike data object\n",
    "        sd : spike data object from braingeneers\n",
    "        returns : N x N matrix of correlation values\n",
    "    \"\"\"\n",
    "    \n",
    "    corr = np.zeros((sd.N,sd.N)) #inds by inds\n",
    "    \n",
    "    dense_raster = sd.raster(bin_size=1) # in ms\n",
    "    sigma = 5                            # Blur it\n",
    "    dense_raster = gaussian_filter1d(dense_raster.astype(float),sigma=sigma)\n",
    "    corr=np.corrcoef( dense_raster )\n",
    "        \n",
    "    return corr;\n",
    "\n",
    "def get_sttc(sd):\n",
    "    \"\"\"\n",
    "    Returns the spike time tiling coefficient of a spike data object\n",
    "        sd : spike data object from braingeneers\n",
    "        returns : N x N matrix of STTC values\n",
    "    \"\"\"\n",
    "\n",
    "    sttc = sd.spike_time_tilings()\n",
    "    return sttc\n",
    "\n",
    "def eigenvalues_eigenvectors(sd): # gets the eigenvalues and eigenvectors of a matrix\n",
    "    \"\"\"\n",
    "    returns the eigenvalues and eigenvectors of a matrix\n",
    "        sd : spike data object from braingeneers\n",
    "        returns : eigenvalues, eigenvectors\n",
    "    \"\"\"\n",
    "\n",
    "    W, U = np.linalg.eigh(sd)\n",
    "    # The rank of A can be no greater than the smaller of its\n",
    "    # dimensions, so cut off the returned values there.\n",
    "    rank = min(*sd.shape)\n",
    "    U = U[:,-rank:]\n",
    "    sgn = (-1)**(U[0,:] < 0)\n",
    "    # Also reverse the order of the eigenvalues because eigh()\n",
    "    # returns them in ascending order but descending makes more sense.\n",
    "    return W[-rank:][::-1], (U*sgn[np.newaxis,:])[:, ::-1]"
   ]
  },
  {
   "cell_type": "markdown",
   "metadata": {},
   "source": [
    "Eigendecomposition "
   ]
  },
  {
   "cell_type": "code",
   "execution_count": null,
   "metadata": {},
   "outputs": [],
   "source": [
    "def plot_basis(sd, method):\n",
    "    \"\"\"\n",
    "    Plots the first 5 eigenvectors of the correlation or STTC matrix.\n",
    "        sd : spike data object from braingeneers\n",
    "        method : \"Correlation\" or \"STTC\"\n",
    "    \n",
    "    \"\"\"\n",
    "    \n",
    "    if method == \"Correlation\":\n",
    "        Corr = correlation(sd)\n",
    "        Wcorr, Ucorr = eigenvalues_eigenvectors(Corr)\n",
    "        A = Ucorr\n",
    "    else:\n",
    "        STTC = get_sttc(sd)\n",
    "        Wsttc, Usttc = eigenvalues_eigenvectors(STTC)\n",
    "        A = Usttc\n",
    "        \n",
    "    plt.figure(figsize=(6,8))\n",
    "    for i in range(5):\n",
    "        if i: plt.xticks([])\n",
    "        plt.subplot(5, 1, i+1)\n",
    "        plt.stem(A[:,i])\n",
    "    plt.xlabel('Observation Dimension')\n",
    "    plt.suptitle('First 5 Eigenvectors', y=0.92)    \n",
    "\n",
    "#plot_basis(sd_pre, \"STTC\")\n",
    "\n",
    "def plot_evectmatrix(sd):\n",
    "    \"\"\"\n",
    "    Plots the eigenvectors of the correlation and STTC matrices for a given spike data object.\n",
    "        sd : spike data object from braingeneers\n",
    "    \"\"\"\n",
    "    \n",
    "    fig, plot = plt.subplot_mosaic(\"AB\", figsize=(14,7))\n",
    "    \n",
    "    corr = correlation(sd)\n",
    "    sttc = get_sttc(sd)\n",
    "\n",
    "    Wcorr, Ucorr = eigenvalues_eigenvectors(corr)\n",
    "    Wsttc, Usttc = eigenvalues_eigenvectors(sttc)\n",
    "\n",
    "    # Plot Correlation Matrix\n",
    "    pltA = plot[\"A\"].imshow(Ucorr[:,:2*len(Ucorr)].T, interpolation='none', cmap=\"magma\")\n",
    "    #plot[\"A\"].gca().set_aspect('auto')\n",
    "    plot[\"A\"].set_ylabel('Eigenvector Number')\n",
    "    plot[\"A\"].set_xlabel('Observation Dimension')\n",
    "    plot[\"A\"].set_title('Eigenvectors of Correlation')\n",
    "    fig.colorbar(pltA, ax=plot[\"A\"], shrink=0.7)\n",
    "    \n",
    "    # Plot STTC matrix\n",
    "    pltA = plot[\"B\"].imshow(Usttc[:,:2*len(Usttc)].T, interpolation='none', cmap=\"magma\")\n",
    "    #plot[\"B\"].gca().set_aspect('auto')\n",
    "    plot[\"B\"].set_ylabel('Eigenvector Number')\n",
    "    plot[\"B\"].set_xlabel('Observation Dimension')\n",
    "    plot[\"B\"].set_title('Eigenvectors of STTC')\n",
    "    fig.colorbar(pltA, ax=plot[\"B\"], shrink=0.7)\n",
    "\n",
    "#plot_evectmatrix(sd_pre)\n",
    "#plot_evectmatrix(sd_post)"
   ]
  },
  {
   "cell_type": "markdown",
   "metadata": {},
   "source": [
    "# <font color=\"red\">Bookend"
   ]
  },
  {
   "cell_type": "code",
   "execution_count": null,
   "metadata": {},
   "outputs": [],
   "source": [
    "now = datetime.now(Timezone)\n",
    "printNow = now.strftime(\"%Y/%m/%d %H:%M:%S\")\n",
    "\n",
    "print(f\"Done at: {printNow}\")"
   ]
  },
  {
   "cell_type": "code",
   "execution_count": null,
   "metadata": {},
   "outputs": [],
   "source": []
  }
 ],
 "metadata": {
  "kernelspec": {
   "display_name": "Python 3",
   "language": "python",
   "name": "python3"
  },
  "language_info": {
   "codemirror_mode": {
    "name": "ipython",
    "version": 3
   },
   "file_extension": ".py",
   "mimetype": "text/x-python",
   "name": "python",
   "nbconvert_exporter": "python",
   "pygments_lexer": "ipython3",
   "version": "3.12.3"
  }
 },
 "nbformat": 4,
 "nbformat_minor": 2
}
